{
 "cells": [
  {
   "cell_type": "code",
   "execution_count": null,
   "metadata": {},
   "outputs": [],
   "source": []
  },
  {
   "cell_type": "markdown",
   "metadata": {},
   "source": [
    "# mobile net \n",
    "小型的cnn网络了，增加了dw卷积\n",
    "## V2\n",
    "\n",
    "The basic idea is to replace a full convolutional operator with a factorized version that splits convolution intotwo separate layers \n",
    "\n",
    "基本思想是用将卷积拆分为两个单独层的因式分解版本替换完整的卷积运算符\n",
    " it performs lightweight filtering by applying a single convolutional filter per input channel.\n",
    "\n",
    "它通过为每个输入通道应用一个卷积滤波器来执行轻量级过滤\n",
    "\n",
    "The second layer is a 1 × 1 convolution, called a pointwise convolution, which is responsible for building new features through computing linear combinations of the input channels\n",
    "\n",
    "第二层是一个1×1的卷积，称为pointwise convolution，负责通过计算输入通道的线性组合来构建新的特征\n"
   ]
  }
 ],
 "metadata": {
  "kernelspec": {
   "display_name": "Python 3.8.12 ('pytorch_env')",
   "language": "python",
   "name": "python3"
  },
  "language_info": {
   "name": "python",
   "version": "3.8.12"
  },
  "orig_nbformat": 4,
  "vscode": {
   "interpreter": {
    "hash": "4914b482869aebf409806e6733183e62abc46f750b2cabbbb2ae30b9f50958d7"
   }
  }
 },
 "nbformat": 4,
 "nbformat_minor": 2
}
